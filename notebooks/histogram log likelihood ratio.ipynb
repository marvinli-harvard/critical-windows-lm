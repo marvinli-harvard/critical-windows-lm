{
 "cells": [
  {
   "cell_type": "code",
   "execution_count": 1,
   "metadata": {},
   "outputs": [],
   "source": [
    "import pandas as pd\n",
    "import numpy as np\n",
    "import torch\n",
    "import matplotlib.pyplot as plt\n",
    "from scipy.stats import ttest_ind\n",
    "import seaborn as sns"
   ]
  },
  {
   "cell_type": "code",
   "execution_count": 2,
   "metadata": {},
   "outputs": [],
   "source": [
    "base_dir = \"/n/holylabs/LABS/sitanc_lab/Users/mfli/critical-windows-lm/results/LikelihoodAligned/LikelihoodAligned_m1=meta-llama-Llama-3.1-8B-Instruct_m2=grimjim-Llama-3.1-8B-Instruct-abliterated_via_adapter_dataset=Mechanistic-Anomaly-Detection-llama3-jailbreaks/\"\n",
    "splits=['benign_instructions_train',\n",
    "        'circuit_breakers_train',\n",
    "        'harmful_autodan',\n",
    "        'harmful_gcg',\n",
    "        'harmful_human_mt',\n",
    "        'harmful_instructions_train',\n",
    "        'harmful_misc',\n",
    "        'harmful_pair',\n",
    "        'harmful_prefill',\n",
    "        'mt_bench',\n",
    "        'or_bench_train',\n",
    "        'xstest'\n",
    "]"
   ]
  },
  {
   "cell_type": "code",
   "execution_count": 3,
   "metadata": {},
   "outputs": [
    {
     "name": "stderr",
     "output_type": "stream",
     "text": [
      "/tmp/ipykernel_1541930/2936164846.py:5: FutureWarning: You are using `torch.load` with `weights_only=False` (the current default value), which uses the default pickle module implicitly. It is possible to construct malicious pickle data which will execute arbitrary code during unpickling (See https://github.com/pytorch/pytorch/blob/main/SECURITY.md#untrusted-models for more details). In a future release, the default value for `weights_only` will be flipped to `True`. This limits the functions that could be executed during unpickling. Arbitrary objects will no longer be allowed to be loaded via this mode unless they are explicitly allowlisted by the user via `torch.serialization.add_safe_globals`. We recommend you start setting `weights_only=True` for any use case where you don't have full control of the loaded file. Please open an issue on GitHub for any issues related to this experimental feature.\n",
      "  aligned_data[split]     = torch.load(f\"{base_dir}/split={split}/aligned_losses.pt\")\n",
      "/tmp/ipykernel_1541930/2936164846.py:6: FutureWarning: You are using `torch.load` with `weights_only=False` (the current default value), which uses the default pickle module implicitly. It is possible to construct malicious pickle data which will execute arbitrary code during unpickling (See https://github.com/pytorch/pytorch/blob/main/SECURITY.md#untrusted-models for more details). In a future release, the default value for `weights_only` will be flipped to `True`. This limits the functions that could be executed during unpickling. Arbitrary objects will no longer be allowed to be loaded via this mode unless they are explicitly allowlisted by the user via `torch.serialization.add_safe_globals`. We recommend you start setting `weights_only=True` for any use case where you don't have full control of the loaded file. Please open an issue on GitHub for any issues related to this experimental feature.\n",
      "  unaligned_data[split] = torch.load(f\"{base_dir}/split={split}/unaligned_losses.pt\")\n"
     ]
    }
   ],
   "source": [
    "aligned_data = {}\n",
    "unaligned_data = {}\n",
    "\n",
    "for split in splits:\n",
    "    aligned_data[split]     = torch.load(f\"{base_dir}/split={split}/aligned_losses.pt\")\n",
    "    unaligned_data[split] = torch.load(f\"{base_dir}/split={split}/unaligned_losses.pt\")"
   ]
  },
  {
   "cell_type": "code",
   "execution_count": 12,
   "metadata": {},
   "outputs": [
    {
     "data": {
      "text/plain": [
       "[0.0,\n",
       " 0.0625,\n",
       " -0.0234375,\n",
       " 0.015625,\n",
       " 0.0078125,\n",
       " -0.01953125,\n",
       " 0.046875,\n",
       " -0.015625,\n",
       " 0.109375,\n",
       " 0.0234375,\n",
       " -0.0078125,\n",
       " -0.0390625,\n",
       " -0.015625,\n",
       " 0.0,\n",
       " -0.03125,\n",
       " -0.0234375,\n",
       " -0.0234375,\n",
       " 0.0078125,\n",
       " 0.03125,\n",
       " -0.015625,\n",
       " 0.0,\n",
       " 0.0,\n",
       " 0.078125,\n",
       " -0.05859375,\n",
       " 0.0078125,\n",
       " 0.28125,\n",
       " 0.046875,\n",
       " -0.03515625,\n",
       " 0.015625,\n",
       " -0.0078125,\n",
       " 0.0,\n",
       " 0.0078125,\n",
       " -0.125,\n",
       " -0.03125,\n",
       " 0.0078125,\n",
       " -0.02734375,\n",
       " 0.078125,\n",
       " 0.03515625,\n",
       " 0.0,\n",
       " 0.21875,\n",
       " 0.25,\n",
       " 0.0,\n",
       " 0.0,\n",
       " -0.01953125,\n",
       " 0.0078125,\n",
       " 0.0078125,\n",
       " -0.01953125,\n",
       " 0.0078125,\n",
       " 0.0078125,\n",
       " 0.0,\n",
       " 0.03125,\n",
       " -0.0234375,\n",
       " 0.0234375,\n",
       " 0.0234375,\n",
       " 0.0625,\n",
       " -0.0390625,\n",
       " 0.0234375,\n",
       " 0.046875,\n",
       " 0.03125,\n",
       " -0.0078125,\n",
       " 0.03125,\n",
       " 0.0,\n",
       " 0.015625,\n",
       " -0.02734375,\n",
       " 0.03125,\n",
       " 0.0546875,\n",
       " 0.00390625,\n",
       " -0.0234375,\n",
       " -0.0078125,\n",
       " 0.01953125,\n",
       " 0.015625,\n",
       " 0.02734375,\n",
       " -0.015625,\n",
       " 0.0625,\n",
       " 0.15625,\n",
       " 0.0,\n",
       " 0.0625,\n",
       " -0.0078125,\n",
       " 0.0078125,\n",
       " -0.015625,\n",
       " -0.04296875,\n",
       " -0.0546875,\n",
       " 0.015625,\n",
       " 0.0,\n",
       " -0.015625,\n",
       " 0.0234375,\n",
       " 0.171875,\n",
       " -0.0546875,\n",
       " 0.0390625,\n",
       " 0.0078125,\n",
       " -0.0234375,\n",
       " -0.046875,\n",
       " -0.03125,\n",
       " 0.015625,\n",
       " 0.09375,\n",
       " -0.0234375,\n",
       " 0.0390625,\n",
       " 0.0078125,\n",
       " 0.015625,\n",
       " 0.0546875,\n",
       " -0.046875,\n",
       " 0.234375,\n",
       " 0.03125,\n",
       " -0.03515625,\n",
       " 0.0,\n",
       " 0.0,\n",
       " 0.09375,\n",
       " 0.09375,\n",
       " 0.0,\n",
       " 0.0390625,\n",
       " -0.0234375,\n",
       " 0.0,\n",
       " -0.015625,\n",
       " 0.0625,\n",
       " -0.0390625,\n",
       " -0.03125,\n",
       " -0.0234375,\n",
       " -0.03125,\n",
       " 0.0,\n",
       " -0.0078125,\n",
       " 0.078125,\n",
       " -0.046875,\n",
       " 0.140625,\n",
       " 0.125,\n",
       " 0.01171875,\n",
       " 0.203125,\n",
       " 0.0,\n",
       " 0.0,\n",
       " -0.03125,\n",
       " 0.140625,\n",
       " 0.0234375,\n",
       " -0.03125,\n",
       " 0.0,\n",
       " 0.0,\n",
       " 0.02734375,\n",
       " 0.046875,\n",
       " 0.0,\n",
       " -0.078125,\n",
       " 0.0234375,\n",
       " 0.125,\n",
       " 0.015625,\n",
       " -0.015625,\n",
       " 0.01953125,\n",
       " 0.0,\n",
       " -0.0234375,\n",
       " -0.0390625,\n",
       " -0.015625,\n",
       " -0.03125,\n",
       " -0.015625,\n",
       " -0.01953125,\n",
       " 0.01953125,\n",
       " 0.0078125,\n",
       " 0.0,\n",
       " -0.05078125,\n",
       " -0.0234375,\n",
       " 0.109375,\n",
       " 0.0234375,\n",
       " -0.01953125,\n",
       " 0.203125,\n",
       " 0.203125,\n",
       " -0.015625,\n",
       " 0.0078125,\n",
       " -0.01953125,\n",
       " 0.015625,\n",
       " -0.03515625,\n",
       " -0.03125,\n",
       " -0.046875,\n",
       " 0.015625,\n",
       " -0.0234375,\n",
       " 0.0078125,\n",
       " -0.015625,\n",
       " -0.0390625,\n",
       " 0.0,\n",
       " 0.04296875,\n",
       " -0.015625,\n",
       " 0.078125,\n",
       " -0.0078125,\n",
       " 0.02734375,\n",
       " -0.0078125,\n",
       " 0.03125,\n",
       " 0.0,\n",
       " 0.0234375,\n",
       " -0.0234375,\n",
       " -0.03125,\n",
       " 0.015625,\n",
       " 0.0,\n",
       " 0.03125,\n",
       " 0.078125,\n",
       " 0.03125,\n",
       " 0.0,\n",
       " -0.0234375,\n",
       " 0.0,\n",
       " 0.0390625,\n",
       " -0.0078125,\n",
       " 0.0,\n",
       " 0.06640625,\n",
       " -0.015625]"
      ]
     },
     "execution_count": 12,
     "metadata": {},
     "output_type": "execute_result"
    }
   ],
   "source": [
    "differences.float().tolist()"
   ]
  },
  {
   "cell_type": "code",
   "execution_count": 14,
   "metadata": {},
   "outputs": [
    {
     "data": {
      "text/plain": [
       "2955"
      ]
     },
     "execution_count": 14,
     "metadata": {},
     "output_type": "execute_result"
    }
   ],
   "source": [
    "len(aligned_data['harmful_instructions_train'])"
   ]
  },
  {
   "cell_type": "code",
   "execution_count": 31,
   "metadata": {},
   "outputs": [
    {
     "name": "stderr",
     "output_type": "stream",
     "text": [
      "/tmp/ipykernel_1541930/2441661438.py:13: DeprecationWarning: __array__ implementation doesn't accept a copy keyword, so passing copy=False failed. __array__ must implement 'dtype' and 'copy' keyword arguments.\n",
      "  diffs['Difference'].extend(list(np.array(differences.float())))\n"
     ]
    },
    {
     "data": {
      "image/png": "[encoded data removed]",
      "text/plain": [
       "<Figure size 1600x1000 with 1 Axes>"
      ]
     },
     "metadata": {},
     "output_type": "display_data"
    }
   ],
   "source": [
    "# Prepare the data\n",
    "aligned_gp =[ 'benign_instructions_train','harmful_instructions_train',\n",
    "              'mt_bench','or_bench_train','xstest'\n",
    "              ]\n",
    "unaligned_gp = ['circuit_breakers_train','harmful_gcg','harmful_human_mt',\n",
    "                'harmful_misc','harmful_pair','harmful_prefill']\n",
    "\n",
    "diffs = {'Group': [], 'Difference': []}\n",
    "for group, group_name in zip([aligned_gp, unaligned_gp], ['aligned', 'unaligned']):\n",
    "    for split in group:\n",
    "        differences = aligned_data[split] - unaligned_data[split]\n",
    "        diffs['Group'].extend([group_name] * len(differences))\n",
    "        diffs['Difference'].extend(list(np.array(differences.float())))\n",
    "\n",
    "# Convert to a DataFrame for Seaborn\n",
    "diffs_df = pd.DataFrame(diffs)\n",
    "\n",
    "# Plot using Seaborn\n",
    "plt.figure(figsize=(8, 5),dpi=200)\n",
    "sns.histplot(data=diffs_df, x='Difference', hue='Group', bins=50, element=\"step\", stat=\"density\", common_norm=False)\n",
    "\n",
    "plt.title('Histogram of Losses for Both Groups')\n",
    "plt.xlabel('Difference')\n",
    "plt.ylabel('Density')\n",
    "plt.show()"
   ]
  },
  {
   "cell_type": "code",
   "execution_count": 24,
   "metadata": {},
   "outputs": [
    {
     "name": "stdout",
     "output_type": "stream",
     "text": [
      "T-statistic: -11.267073171659792\n",
      "P-value: 2.297534038376977e-29\n"
     ]
    }
   ],
   "source": [
    "t_stat, p_value = ttest_ind(diffs_df.Difference[diffs_df.Group==\"aligned\"], \n",
    "                            diffs_df.Difference[diffs_df.Group==\"unaligned\"])\n",
    "\n",
    "print(f\"T-statistic: {t_stat}\")\n",
    "print(f\"P-value: {p_value}\")"
   ]
  },
  {
   "cell_type": "code",
   "execution_count": 33,
   "metadata": {},
   "outputs": [
    {
     "data": {
      "text/html": [
       "<div>\n",
       "<style scoped>\n",
       "    .dataframe tbody tr th:only-of-type {\n",
       "        vertical-align: middle;\n",
       "    }\n",
       "\n",
       "    .dataframe tbody tr th {\n",
       "        vertical-align: top;\n",
       "    }\n",
       "\n",
       "    .dataframe thead th {\n",
       "        text-align: right;\n",
       "    }\n",
       "</style>\n",
       "<table border=\"1\" class=\"dataframe\">\n",
       "  <thead>\n",
       "    <tr style=\"text-align: right;\">\n",
       "      <th></th>\n",
       "      <th>Group</th>\n",
       "      <th>Difference</th>\n",
       "    </tr>\n",
       "  </thead>\n",
       "  <tbody>\n",
       "    <tr>\n",
       "      <th>7896</th>\n",
       "      <td>aligned</td>\n",
       "      <td>-0.050781</td>\n",
       "    </tr>\n",
       "    <tr>\n",
       "      <th>8876</th>\n",
       "      <td>aligned</td>\n",
       "      <td>-0.042969</td>\n",
       "    </tr>\n",
       "    <tr>\n",
       "      <th>20260</th>\n",
       "      <td>unaligned</td>\n",
       "      <td>0.031250</td>\n",
       "    </tr>\n",
       "    <tr>\n",
       "      <th>11595</th>\n",
       "      <td>aligned</td>\n",
       "      <td>0.046875</td>\n",
       "    </tr>\n",
       "    <tr>\n",
       "      <th>20495</th>\n",
       "      <td>unaligned</td>\n",
       "      <td>0.031250</td>\n",
       "    </tr>\n",
       "  </tbody>\n",
       "</table>\n",
       "</div>"
      ],
      "text/plain": [
       "           Group  Difference\n",
       "7896     aligned   -0.050781\n",
       "8876     aligned   -0.042969\n",
       "20260  unaligned    0.031250\n",
       "11595    aligned    0.046875\n",
       "20495  unaligned    0.031250"
      ]
     },
     "metadata": {},
     "output_type": "display_data"
    },
    {
     "data": {
      "text/html": [
       "<div>\n",
       "<style scoped>\n",
       "    .dataframe tbody tr th:only-of-type {\n",
       "        vertical-align: middle;\n",
       "    }\n",
       "\n",
       "    .dataframe tbody tr th {\n",
       "        vertical-align: top;\n",
       "    }\n",
       "\n",
       "    .dataframe thead th {\n",
       "        text-align: right;\n",
       "    }\n",
       "</style>\n",
       "<table border=\"1\" class=\"dataframe\">\n",
       "  <thead>\n",
       "    <tr style=\"text-align: right;\">\n",
       "      <th></th>\n",
       "      <th>mean</th>\n",
       "      <th>std</th>\n",
       "      <th>sem</th>\n",
       "    </tr>\n",
       "    <tr>\n",
       "      <th>Group</th>\n",
       "      <th></th>\n",
       "      <th></th>\n",
       "      <th></th>\n",
       "    </tr>\n",
       "  </thead>\n",
       "  <tbody>\n",
       "    <tr>\n",
       "      <th>aligned</th>\n",
       "      <td>-0.008092</td>\n",
       "      <td>0.055017</td>\n",
       "      <td>0.000410</td>\n",
       "    </tr>\n",
       "    <tr>\n",
       "      <th>unaligned</th>\n",
       "      <td>0.002194</td>\n",
       "      <td>0.033383</td>\n",
       "      <td>0.000533</td>\n",
       "    </tr>\n",
       "  </tbody>\n",
       "</table>\n",
       "</div>"
      ],
      "text/plain": [
       "               mean       std       sem\n",
       "Group                                  \n",
       "aligned   -0.008092  0.055017  0.000410\n",
       "unaligned  0.002194  0.033383  0.000533"
      ]
     },
     "metadata": {},
     "output_type": "display_data"
    }
   ],
   "source": [
    "display(diffs_df.sample(5))\n",
    "display(diffs_df.groupby(\"Group\")[\"Difference\"].agg([\"mean\",\"std\",\"sem\"]))"
   ]
  },
  {
   "cell_type": "code",
   "execution_count": 64,
   "metadata": {},
   "outputs": [
    {
     "data": {
      "text/plain": [
       "0          (-0.376, -0.0352]\n",
       "1        (-0.0195, -0.00781]\n",
       "2        (-0.0195, -0.00781]\n",
       "3         (-0.0352, -0.0195]\n",
       "4         (-0.0352, -0.0195]\n",
       "                ...         \n",
       "21944        (0.0117, 0.453]\n",
       "21945    (-0.0195, -0.00781]\n",
       "21946     (-0.00781, 0.0117]\n",
       "21947        (0.0117, 0.453]\n",
       "21948    (-0.0195, -0.00781]\n",
       "Name: qcut_diff, Length: 21949, dtype: category\n",
       "Categories (5, interval[float64, right]): [(-0.376, -0.0352] < (-0.0352, -0.0195] < (-0.0195, -0.00781] < (-0.00781, 0.0117] < (0.0117, 0.453]]"
      ]
     },
     "execution_count": 64,
     "metadata": {},
     "output_type": "execute_result"
    }
   ],
   "source": [
    "diffs_df[\"qcut_diff\"]= pd.qcut(diffs_df.Difference, 5)\n",
    "diffs_df[\"qcut_diff\"]"
   ]
  },
  {
   "cell_type": "code",
   "execution_count": 65,
   "metadata": {},
   "outputs": [
    {
     "name": "stderr",
     "output_type": "stream",
     "text": [
      "/tmp/ipykernel_1541930/3143794235.py:1: FutureWarning: The default of observed=False is deprecated and will be changed to True in a future version of pandas. Pass observed=False to retain current behavior or observed=True to adopt the future default and silence this warning.\n",
      "  grouped = diffs_df.groupby([\"qcut_diff\", \"Group\"]).size().unstack()\n"
     ]
    },
    {
     "data": {
      "text/plain": [
       "<Figure size 2500x1500 with 0 Axes>"
      ]
     },
     "metadata": {},
     "output_type": "display_data"
    },
    {
     "data": {
      "image/png": "[encoded data removed]",
      "text/plain": [
       "<Figure size 640x480 with 1 Axes>"
      ]
     },
     "metadata": {},
     "output_type": "display_data"
    }
   ],
   "source": [
    "grouped = diffs_df.groupby([\"qcut_diff\", \"Group\"]).size().unstack()\n",
    "plt.figure(figsize=(5, 3),dpi=500)\n",
    "grouped.plot(kind='bar', stacked=True)\n",
    "plt.title('Number of Aligned and Unaligned Prompts in each bin')\n",
    "plt.xlabel('Aligned loss - Jailbroken loss')\n",
    "plt.ylabel('Count')\n",
    "plt.show()\n"
   ]
  },
  {
   "cell_type": "code",
   "execution_count": null,
   "metadata": {},
   "outputs": [
    {
     "name": "stderr",
     "output_type": "stream",
     "text": [
      "/tmp/ipykernel_1541930/3091452663.py:1: FutureWarning: The default of observed=False is deprecated and will be changed to True in a future version of pandas. Pass observed=False to retain current behavior or observed=True to adopt the future default and silence this warning.\n",
      "  grouped = diffs_df.groupby([\"qcut_diff\", \"Group\"]).size().unstack()\n"
     ]
    },
    {
     "data": {
      "text/html": [
       "<div>\n",
       "<style scoped>\n",
       "    .dataframe tbody tr th:only-of-type {\n",
       "        vertical-align: middle;\n",
       "    }\n",
       "\n",
       "    .dataframe tbody tr th {\n",
       "        vertical-align: top;\n",
       "    }\n",
       "\n",
       "    .dataframe thead th {\n",
       "        text-align: right;\n",
       "    }\n",
       "</style>\n",
       "<table border=\"1\" class=\"dataframe\">\n",
       "  <thead>\n",
       "    <tr style=\"text-align: right;\">\n",
       "      <th>Group</th>\n",
       "      <th>aligned</th>\n",
       "      <th>unaligned</th>\n",
       "      <th>percent_unaligned</th>\n",
       "    </tr>\n",
       "    <tr>\n",
       "      <th>qcut_diff</th>\n",
       "      <th></th>\n",
       "      <th></th>\n",
       "      <th></th>\n",
       "    </tr>\n",
       "  </thead>\n",
       "  <tbody>\n",
       "    <tr>\n",
       "      <th>(-0.376, -0.0352]</th>\n",
       "      <td>4164</td>\n",
       "      <td>419</td>\n",
       "      <td>0.091425</td>\n",
       "    </tr>\n",
       "    <tr>\n",
       "      <th>(-0.0352, -0.0195]</th>\n",
       "      <td>4044</td>\n",
       "      <td>450</td>\n",
       "      <td>0.100134</td>\n",
       "    </tr>\n",
       "    <tr>\n",
       "      <th>(-0.0195, -0.00781]</th>\n",
       "      <td>3850</td>\n",
       "      <td>581</td>\n",
       "      <td>0.131122</td>\n",
       "    </tr>\n",
       "    <tr>\n",
       "      <th>(-0.00781, 0.0117]</th>\n",
       "      <td>3071</td>\n",
       "      <td>1001</td>\n",
       "      <td>0.245825</td>\n",
       "    </tr>\n",
       "    <tr>\n",
       "      <th>(0.0117, 0.453]</th>\n",
       "      <td>2897</td>\n",
       "      <td>1472</td>\n",
       "      <td>0.336919</td>\n",
       "    </tr>\n",
       "  </tbody>\n",
       "</table>\n",
       "</div>"
      ],
      "text/plain": [
       "Group                aligned  unaligned  percent_unaligned\n",
       "qcut_diff                                                 \n",
       "(-0.376, -0.0352]       4164        419           0.091425\n",
       "(-0.0352, -0.0195]      4044        450           0.100134\n",
       "(-0.0195, -0.00781]     3850        581           0.131122\n",
       "(-0.00781, 0.0117]      3071       1001           0.245825\n",
       "(0.0117, 0.453]         2897       1472           0.336919"
      ]
     },
     "execution_count": 81,
     "metadata": {},
     "output_type": "execute_result"
    }
   ],
   "source": [
    "\n",
    "grouped = diffs_df.groupby([\"qcut_diff\", \"Group\"]).size().unstack()\n",
    "grouped[\"percent_unaligned\"]=grouped[\"unaligned\"]/grouped.sum(axis=1)\n",
    "grouped\n"
   ]
  },
  {
   "cell_type": "markdown",
   "metadata": {},
   "source": [
    "## Why are the number of differences similar\n",
    "\n",
    "Just a casting issue to bfloat16. If this continues to be a problem once I have rerun stuff this may be a bug"
   ]
  },
  {
   "cell_type": "code",
   "execution_count": 66,
   "metadata": {},
   "outputs": [
    {
     "name": "stdout",
     "output_type": "stream",
     "text": [
      "21949\n",
      "104\n"
     ]
    }
   ],
   "source": [
    "## Why are they the same\n",
    "print(len(diffs_df.Difference))\n",
    "print(len(diffs_df.Difference.unique()))"
   ]
  },
  {
   "cell_type": "code",
   "execution_count": 71,
   "metadata": {},
   "outputs": [
    {
     "name": "stdout",
     "output_type": "stream",
     "text": [
      "2955\n",
      "55\n"
     ]
    }
   ],
   "source": [
    "print(len((aligned_data['harmful_instructions_train']-unaligned_data['harmful_instructions_train'])))\n",
    "print(len((aligned_data['harmful_instructions_train']-unaligned_data['harmful_instructions_train']).unique()))"
   ]
  },
  {
   "cell_type": "code",
   "execution_count": 76,
   "metadata": {},
   "outputs": [
    {
     "data": {
      "text/plain": [
       "tensor([2.6719, 3.2344, 2.7656, 3.0469, 3.1875, 3.2344, 2.7656, 2.4844, 3.0469,\n",
       "        2.6562, 3.1719, 2.4375, 2.9375, 2.5156, 2.9844, 3.6250, 2.7969, 2.7031,\n",
       "        2.6094, 2.6719, 2.6250, 2.4219, 2.0312, 2.2031, 2.5469, 2.0938, 2.8125,\n",
       "        3.0000, 2.0938, 2.4062, 2.6406, 2.8906, 2.4219, 2.8750, 2.5938, 2.9688,\n",
       "        2.4844, 2.8281, 2.2344, 3.0156, 2.9375, 2.9844, 3.5469, 3.0469, 2.8906,\n",
       "        2.2500, 2.5000, 2.5469, 2.7188, 2.3906, 2.8750, 2.9375, 2.4844, 2.6562,\n",
       "        2.9219, 2.1250, 3.0156, 2.5000, 2.8281, 2.6562, 2.5156, 2.9844, 2.6719,\n",
       "        3.0000, 2.5156, 3.0469, 2.9062, 2.6875, 3.0000, 2.7344, 2.5625, 2.7500,\n",
       "        2.7969, 3.3125, 2.7188, 2.5469, 2.2812, 2.4688, 2.3594, 3.4688, 3.2188,\n",
       "        2.2188, 2.9375, 2.5469, 2.2812, 3.0781, 3.4688, 2.8125, 2.6250, 2.5156,\n",
       "        2.6562, 2.3594, 2.8906, 2.5781, 3.0625, 2.3281, 2.9375, 3.0469, 2.8438,\n",
       "        2.7812], dtype=torch.bfloat16)"
      ]
     },
     "execution_count": 76,
     "metadata": {},
     "output_type": "execute_result"
    }
   ],
   "source": [
    "aligned_data['harmful_instructions_train'][:100]"
   ]
  },
  {
   "cell_type": "code",
   "execution_count": 73,
   "metadata": {},
   "outputs": [
    {
     "name": "stdout",
     "output_type": "stream",
     "text": [
      "141\n"
     ]
    }
   ],
   "source": [
    "print(len((aligned_data['harmful_instructions_train']).unique()))"
   ]
  },
  {
   "cell_type": "code",
   "execution_count": 74,
   "metadata": {},
   "outputs": [
    {
     "name": "stdout",
     "output_type": "stream",
     "text": [
      "142\n"
     ]
    }
   ],
   "source": [
    "print(len((unaligned_data['harmful_instructions_train']).unique()))"
   ]
  },
  {
   "cell_type": "code",
   "execution_count": 69,
   "metadata": {},
   "outputs": [
    {
     "data": {
      "text/plain": [
       "2955"
      ]
     },
     "execution_count": 69,
     "metadata": {},
     "output_type": "execute_result"
    }
   ],
   "source": [
    "len(aligned_data['harmful_instructions_train'])"
   ]
  },
  {
   "cell_type": "code",
   "execution_count": null,
   "metadata": {},
   "outputs": [],
   "source": []
  }
 ],
 "metadata": {
  "kernelspec": {
   "display_name": "jupyter_py3.11",
   "language": "python",
   "name": "python3"
  },
  "language_info": {
   "codemirror_mode": {
    "name": "ipython",
    "version": 3
   },
   "file_extension": ".py",
   "mimetype": "text/x-python",
   "name": "python",
   "nbconvert_exporter": "python",
   "pygments_lexer": "ipython3",
   "version": "3.11.10"
  }
 },
 "nbformat": 4,
 "nbformat_minor": 2
}
