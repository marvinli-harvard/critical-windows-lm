{
 "cells": [
  {
   "cell_type": "code",
   "execution_count": 1,
   "id": "05382ee3",
   "metadata": {},
   "outputs": [],
   "source": [
    "import sys\n",
    "import os\n",
    "from typing import Optional\n",
    "from tqdm import tqdm\n",
    "sys.path.append(os.path.abspath('../'))\n",
    "\n",
    "import pandas as pd\n",
    "import numpy as np\n",
    "import matplotlib.pyplot as plt\n",
    "from scipy.stats import ttest_ind\n",
    "import seaborn as sns\n",
    "import os\n",
    "from IPython.display import display, HTML\n",
    "import torch\n",
    "\n",
    "from utils.plot_utils import *\n",
    "from utils.utils import *\n",
    "\n",
    "pd.set_option('display.max_rows', 500)"
   ]
  },
  {
   "cell_type": "code",
   "execution_count": 2,
   "id": "0d11ceab",
   "metadata": {},
   "outputs": [],
   "source": [
    "count_inf = -10\n",
    "experiment_dir = \"../results/JailbreakLikelihoodRatio/JailbreakLikelihoodRatio_aligned=meta-llama-Llama-3.1-8B-Instruct_unaligned=grimjim-Llama-3.1-8B-Instruct-abliterated_via_adapter_dataset=Mechanistic-Anomaly-Detection-llama3-jailbreaks_num_samples=None\""
   ]
  },
  {
   "cell_type": "code",
   "execution_count": 3,
   "id": "8ecb2b8d",
   "metadata": {
    "scrolled": true
   },
   "outputs": [],
   "source": [
    "aligned_jailbreak_logprobs = torch.load(f\"{experiment_dir}/aligned_jailbreak_logprobs.pt\",weights_only=True)\n",
    "aligned_benign_logprobs = torch.load(f\"{experiment_dir}/aligned_benign_logprobs.pt\",weights_only=True)\n",
    "\n",
    "unaligned_jailbreak_logprobs = torch.load(f\"{experiment_dir}/unaligned_jailbreak_logprobs.pt\",weights_only=True)\n",
    "unaligned_benign_logprobs = torch.load(f\"{experiment_dir}/unaligned_benign_logprobs.pt\",weights_only=True)"
   ]
  },
  {
   "cell_type": "code",
   "execution_count": 5,
   "id": "55e9386c-bee1-4db0-869f-53c5bec4cc07",
   "metadata": {},
   "outputs": [
    {
     "data": {
      "text/plain": [
       "dict_keys(['prompt', 'completion', 'original_split', 'context', 'input_tokens', 'response_tokens', 'response_string', 'no', 'user_logprobs', 'asst_logprobs', 'gen_logprobs'])"
      ]
     },
     "execution_count": 5,
     "metadata": {},
     "output_type": "execute_result"
    }
   ],
   "source": [
    "aligned_jailbreak_logprobs[0].keys()"
   ]
  },
  {
   "cell_type": "code",
   "execution_count": 6,
   "id": "3aa0a522",
   "metadata": {},
   "outputs": [],
   "source": [
    "aligned_jb_logprobs_df = pt_to_df(None, aligned_jailbreak_logprobs, count_inf)\n",
    "unaligned_jb_logprobs_df = pt_to_df(None, unaligned_jailbreak_logprobs, count_inf) \n",
    "\n",
    "aligned_benign_logprobs_df = pt_to_df(None, aligned_benign_logprobs, count_inf)\n",
    "unaligned_benign_logprobs_df = pt_to_df(None, unaligned_benign_logprobs, count_inf) "
   ]
  },
  {
   "cell_type": "markdown",
   "id": "31d78ad4-163b-4814-91c7-a22445480092",
   "metadata": {},
   "source": [
    "## User and asst logprobs"
   ]
  },
  {
   "cell_type": "code",
   "execution_count": 63,
   "id": "2fb98464",
   "metadata": {
    "scrolled": true
   },
   "outputs": [],
   "source": [
    "user_jb, user_benign = return_diffs(unaligned_jb_logprobs_df, aligned_jb_logprobs_df,\n",
    "                          unaligned_benign_logprobs_df, aligned_benign_logprobs_df,prefix=\"user\")\n",
    "asst_jb, asst_benign = return_diffs(unaligned_jb_logprobs_df, aligned_jb_logprobs_df,\n",
    "                          unaligned_benign_logprobs_df, aligned_benign_logprobs_df,prefix=\"asst\")"
   ]
  },
  {
   "cell_type": "code",
   "execution_count": 65,
   "id": "779b8406-0324-4cb7-9eed-795c260d563b",
   "metadata": {},
   "outputs": [],
   "source": [
    "lst_of_columns = []\n",
    "for column in [\"diff\",\"aligned_logprobs\",\"unaligned_logprobs\"]:\n",
    "    lst_of_columns.extend(\n",
    "        [\n",
    "            (user_jb\n",
    "             .groupby(\"original_split\")[column]\n",
    "             .apply(lambda x:compute_tprs(np.array(x), user_jb[column])\n",
    "                    .set_index(\"FPRs\").loc[0.01]\n",
    "                    )\n",
    "             .rename(f\"user_{column}\")\n",
    "            ),\n",
    "            (asst_jb\n",
    "             .groupby(\"original_split\")[column]\n",
    "             .apply(lambda x:compute_tprs(np.array(x), asst_benign[column])\n",
    "                    .set_index(\"FPRs\").loc[0.01]\n",
    "                    )\n",
    "             .rename(f\"asst_{column}\")\n",
    "            )\n",
    "        ]\n",
    "    )"
   ]
  },
  {
   "cell_type": "code",
   "execution_count": 72,
   "id": "feaa8821-ece0-43e3-a9cc-5d4abd5d8a8c",
   "metadata": {},
   "outputs": [
    {
     "data": {
      "text/html": [
       "<div>\n",
       "<style scoped>\n",
       "    .dataframe tbody tr th:only-of-type {\n",
       "        vertical-align: middle;\n",
       "    }\n",
       "\n",
       "    .dataframe tbody tr th {\n",
       "        vertical-align: top;\n",
       "    }\n",
       "\n",
       "    .dataframe thead tr th {\n",
       "        text-align: left;\n",
       "    }\n",
       "</style>\n",
       "<table border=\"1\" class=\"dataframe\">\n",
       "  <thead>\n",
       "    <tr>\n",
       "      <th>original_split</th>\n",
       "      <th>harmful_autodan</th>\n",
       "      <th>harmful_best_of_n</th>\n",
       "      <th>harmful_gcg</th>\n",
       "      <th>harmful_human_mt</th>\n",
       "      <th>harmful_misc</th>\n",
       "      <th>harmful_msj</th>\n",
       "      <th>harmful_pair</th>\n",
       "      <th>harmful_prefill</th>\n",
       "    </tr>\n",
       "    <tr>\n",
       "      <th></th>\n",
       "      <th>TPRs</th>\n",
       "      <th>TPRs</th>\n",
       "      <th>TPRs</th>\n",
       "      <th>TPRs</th>\n",
       "      <th>TPRs</th>\n",
       "      <th>TPRs</th>\n",
       "      <th>TPRs</th>\n",
       "      <th>TPRs</th>\n",
       "    </tr>\n",
       "  </thead>\n",
       "  <tbody>\n",
       "    <tr>\n",
       "      <th>user_diff</th>\n",
       "      <td>0.000000</td>\n",
       "      <td>0.015707</td>\n",
       "      <td>0.01</td>\n",
       "      <td>0.000000</td>\n",
       "      <td>0.0375</td>\n",
       "      <td>0.00000</td>\n",
       "      <td>0.011364</td>\n",
       "      <td>0.020305</td>\n",
       "    </tr>\n",
       "    <tr>\n",
       "      <th>asst_diff</th>\n",
       "      <td>0.082051</td>\n",
       "      <td>0.047120</td>\n",
       "      <td>0.03</td>\n",
       "      <td>0.000000</td>\n",
       "      <td>0.1000</td>\n",
       "      <td>0.00000</td>\n",
       "      <td>0.060606</td>\n",
       "      <td>0.050761</td>\n",
       "    </tr>\n",
       "    <tr>\n",
       "      <th>user_aligned_logprobs</th>\n",
       "      <td>0.025641</td>\n",
       "      <td>0.005236</td>\n",
       "      <td>0.03</td>\n",
       "      <td>0.000000</td>\n",
       "      <td>0.0000</td>\n",
       "      <td>0.00000</td>\n",
       "      <td>0.000000</td>\n",
       "      <td>0.020305</td>\n",
       "    </tr>\n",
       "    <tr>\n",
       "      <th>asst_aligned_logprobs</th>\n",
       "      <td>0.205128</td>\n",
       "      <td>0.136126</td>\n",
       "      <td>0.15</td>\n",
       "      <td>0.570447</td>\n",
       "      <td>0.2000</td>\n",
       "      <td>0.00625</td>\n",
       "      <td>0.015152</td>\n",
       "      <td>0.416244</td>\n",
       "    </tr>\n",
       "    <tr>\n",
       "      <th>user_unaligned_logprobs</th>\n",
       "      <td>0.020513</td>\n",
       "      <td>0.005236</td>\n",
       "      <td>0.04</td>\n",
       "      <td>0.000000</td>\n",
       "      <td>0.0000</td>\n",
       "      <td>0.00000</td>\n",
       "      <td>0.000000</td>\n",
       "      <td>0.025381</td>\n",
       "    </tr>\n",
       "    <tr>\n",
       "      <th>asst_unaligned_logprobs</th>\n",
       "      <td>0.210256</td>\n",
       "      <td>0.188482</td>\n",
       "      <td>0.12</td>\n",
       "      <td>0.560137</td>\n",
       "      <td>0.2000</td>\n",
       "      <td>0.00000</td>\n",
       "      <td>0.030303</td>\n",
       "      <td>0.360406</td>\n",
       "    </tr>\n",
       "  </tbody>\n",
       "</table>\n",
       "</div>"
      ],
      "text/plain": [
       "original_split          harmful_autodan harmful_best_of_n harmful_gcg  \\\n",
       "                                   TPRs              TPRs        TPRs   \n",
       "user_diff                      0.000000          0.015707        0.01   \n",
       "asst_diff                      0.082051          0.047120        0.03   \n",
       "user_aligned_logprobs          0.025641          0.005236        0.03   \n",
       "asst_aligned_logprobs          0.205128          0.136126        0.15   \n",
       "user_unaligned_logprobs        0.020513          0.005236        0.04   \n",
       "asst_unaligned_logprobs        0.210256          0.188482        0.12   \n",
       "\n",
       "original_split          harmful_human_mt harmful_misc harmful_msj  \\\n",
       "                                    TPRs         TPRs        TPRs   \n",
       "user_diff                       0.000000       0.0375     0.00000   \n",
       "asst_diff                       0.000000       0.1000     0.00000   \n",
       "user_aligned_logprobs           0.000000       0.0000     0.00000   \n",
       "asst_aligned_logprobs           0.570447       0.2000     0.00625   \n",
       "user_unaligned_logprobs         0.000000       0.0000     0.00000   \n",
       "asst_unaligned_logprobs         0.560137       0.2000     0.00000   \n",
       "\n",
       "original_split          harmful_pair harmful_prefill  \n",
       "                                TPRs            TPRs  \n",
       "user_diff                   0.011364        0.020305  \n",
       "asst_diff                   0.060606        0.050761  \n",
       "user_aligned_logprobs       0.000000        0.020305  \n",
       "asst_aligned_logprobs       0.015152        0.416244  \n",
       "user_unaligned_logprobs     0.000000        0.025381  \n",
       "asst_unaligned_logprobs     0.030303        0.360406  "
      ]
     },
     "execution_count": 72,
     "metadata": {},
     "output_type": "execute_result"
    }
   ],
   "source": [
    "df_total = pd.concat(lst_of_columns, axis=1).T\n",
    "df_total"
   ]
  }
 ],
 "metadata": {
  "kernelspec": {
   "display_name": "Python 3 (ipykernel)",
   "language": "python",
   "name": "python3"
  },
  "language_info": {
   "codemirror_mode": {
    "name": "ipython",
    "version": 3
   },
   "file_extension": ".py",
   "mimetype": "text/x-python",
   "name": "python",
   "nbconvert_exporter": "python",
   "pygments_lexer": "ipython3",
   "version": "3.10.15"
  }
 },
 "nbformat": 4,
 "nbformat_minor": 5
}
