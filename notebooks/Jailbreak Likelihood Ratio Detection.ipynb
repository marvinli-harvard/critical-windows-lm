{
 "cells": [
  {
   "cell_type": "code",
   "execution_count": null,
   "id": "05382ee3",
   "metadata": {},
   "outputs": [],
   "source": [
    "import sys\n",
    "import os\n",
    "from typing import Optional\n",
    "from tqdm import tqdm\n",
    "sys.path.append(os.path.abspath('../'))\n",
    "\n",
    "import pandas as pd\n",
    "import numpy as np\n",
    "import matplotlib.pyplot as plt\n",
    "from scipy.stats import ttest_ind\n",
    "import seaborn as sns\n",
    "import os\n",
    "from IPython.display import display, HTML\n",
    "import torch\n",
    "\n",
    "from utils.plot_utils import *\n",
    "from utils.utils import *\n",
    "\n",
    "pd.set_option('display.max_rows', 500)"
   ]
  },
  {
   "cell_type": "code",
   "execution_count": null,
   "id": "f87c1841-33c0-4178-890e-2de87c71443e",
   "metadata": {},
   "outputs": [],
   "source": [
    "## How much to count -inf to logprob\n",
    "count_inf = -10"
   ]
  },
  {
   "cell_type": "markdown",
   "id": "22fd6a09-0de8-4ca6-97b3-3e37d04383c3",
   "metadata": {},
   "source": [
    "## Helper functions"
   ]
  },
  {
   "cell_type": "code",
   "execution_count": null,
   "id": "581137a7-9fd4-48e8-9492-e505089d035c",
   "metadata": {},
   "outputs": [],
   "source": [
    "def experiment_dir_to_table(experiment_dir):\n",
    "    aligned_jailbreak_logprobs = torch.load(f\"{experiment_dir}/aligned_jailbreak_logprobs.pt\",weights_only=True)\n",
    "    aligned_benign_logprobs = torch.load(f\"{experiment_dir}/aligned_benign_logprobs.pt\",weights_only=True)\n",
    "    \n",
    "    unaligned_jailbreak_logprobs = torch.load(f\"{experiment_dir}/unaligned_jailbreak_logprobs.pt\",weights_only=True)\n",
    "    unaligned_benign_logprobs = torch.load(f\"{experiment_dir}/unaligned_benign_logprobs.pt\",weights_only=True)\n",
    "\n",
    "    aligned_jb_logprobs_df = pt_to_df(None, aligned_jailbreak_logprobs, count_inf)\n",
    "    unaligned_jb_logprobs_df = pt_to_df(None, unaligned_jailbreak_logprobs, count_inf) \n",
    "    \n",
    "    aligned_benign_logprobs_df = pt_to_df(None, aligned_benign_logprobs, count_inf)\n",
    "    unaligned_benign_logprobs_df = pt_to_df(None, unaligned_benign_logprobs, count_inf) \n",
    "    \n",
    "    user_jb, user_benign = return_diffs(unaligned_jb_logprobs_df, aligned_jb_logprobs_df,\n",
    "                          unaligned_benign_logprobs_df, aligned_benign_logprobs_df,prefix=\"user\")\n",
    "    asst_jb, asst_benign = return_diffs(unaligned_jb_logprobs_df, aligned_jb_logprobs_df,\n",
    "                              unaligned_benign_logprobs_df, aligned_benign_logprobs_df,prefix=\"asst\")\n",
    "    lst_of_columns = []\n",
    "    for column in [\"diff\",\"aligned_logprobs\",\"unaligned_logprobs\"]:\n",
    "        lst_of_columns.extend(\n",
    "            [\n",
    "                (user_jb\n",
    "                 .groupby(\"original_split\")[column]\n",
    "                 .apply(lambda x:compute_tprs(np.array(x), user_benign[column])\n",
    "                        .set_index(\"FPRs\").loc[0.01]\n",
    "                        )\n",
    "                 .rename(f\"user_{column}\")\n",
    "                 .droplevel(1)\n",
    "                ),\n",
    "                (asst_jb\n",
    "                 .groupby(\"original_split\")[column]\n",
    "                 .apply(lambda x:compute_tprs(np.array(x), asst_benign[column])\n",
    "                        .set_index(\"FPRs\").loc[0.01]\n",
    "                        )\n",
    "                 .rename(f\"asst_{column}\")\n",
    "                 .droplevel(1)\n",
    "                )\n",
    "            ]\n",
    "        )\n",
    "    \n",
    "    df_total = pd.concat(lst_of_columns, axis=1).T.rename(index={\"user_diff\":\"prompt logprobs diff\",\n",
    "                                                                 \"asst_diff\":\"gen logprobs diff\",\n",
    "                                                                 \"user_aligned_logprobs\":\"prompt logprobs aligned\",\n",
    "                                                                 \"asst_aligned_logprobs\":\"gen logprobs aligned\",\n",
    "                                                                 \"user_unaligned_logprobs\":\"prompt logprobs unaligned\",\n",
    "                                                                 \"asst_unaligned_logprobs\":\"gen logprobs unaligned\",\n",
    "                                                                },\n",
    "                                                            columns={\"harmful_autodan\":\"AutoDAN\",\n",
    "                                                                     \"harmful_best_of_n\":\"Best of N\", \n",
    "                                                                     \"harmful_gcg\": \"GCG\", \n",
    "                                                                     \"harmful_human_mt\":\"Multi-Turn\",\n",
    "                                                                     \"harmful_misc\":\"Misc\",\n",
    "                                                                     \"harmful_msj\":\"MSJ\",\n",
    "                                                                     \"harmful_pair\":\"Pair\", \n",
    "                                                                     \"harmful_prefill\":\"Prefill\" \n",
    "                                                                })\n",
    "    return df_total"
   ]
  },
  {
   "cell_type": "markdown",
   "id": "76a314cb-1647-4fdf-b789-4904cf34c01a",
   "metadata": {},
   "source": [
    "## Jailbreak vs aligned"
   ]
  },
  {
   "cell_type": "code",
   "execution_count": null,
   "id": "0d11ceab",
   "metadata": {},
   "outputs": [],
   "source": [
    "df_total = experiment_dir_to_table(\"../results/JailbreakLikelihoodRatio/JailbreakLikelihoodRatio_aligned=meta-llama-Llama-3.1-8B-Instruct_unaligned=grimjim-Llama-3.1-8B-Instruct-abliterated_via_adapter_dataset=Mechanistic-Anomaly-Detection-llama3-jailbreaks_num_samples=None\")\n",
    "df_total.columns.name = None\n",
    "df_total"
   ]
  },
  {
   "cell_type": "code",
   "execution_count": null,
   "id": "3d84595f-ec72-40bb-87c5-5f8dbdf1599c",
   "metadata": {},
   "outputs": [],
   "source": [
    "df_total[[\"GCG\",\"AutoDAN\",\"MSJ\",\"Pair\",\"Multi-Turn\",\"Prefill\",\"Misc\"]].mean(axis=1)"
   ]
  },
  {
   "cell_type": "code",
   "execution_count": null,
   "id": "da051500-9004-40f6-a226-fcff9c15c83a",
   "metadata": {},
   "outputs": [],
   "source": [
    "df_total.loc[[\"gen logprobs diff\",\"prompt logprobs aligned\",\"gen logprobs aligned\"],[\"AutoDAN\",\"Best of N\",\"GCG\",\"Multi-Turn\",\"Prefill\"]]"
   ]
  }
 ],
 "metadata": {
  "kernelspec": {
   "display_name": "Python 3 (ipykernel)",
   "language": "python",
   "name": "python3"
  },
  "language_info": {
   "codemirror_mode": {
    "name": "ipython",
    "version": 3
   },
   "file_extension": ".py",
   "mimetype": "text/x-python",
   "name": "python",
   "nbconvert_exporter": "python",
   "pygments_lexer": "ipython3",
   "version": "3.10.15"
  }
 },
 "nbformat": 4,
 "nbformat_minor": 5
}
