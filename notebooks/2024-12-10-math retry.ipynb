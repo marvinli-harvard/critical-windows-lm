{
 "cells": [
  {
   "cell_type": "code",
   "execution_count": 1,
   "metadata": {},
   "outputs": [],
   "source": [
    "import sys\n",
    "import os\n",
    "from typing import Optional\n",
    "from tqdm import tqdm\n",
    "sys.path.append(os.path.abspath('../'))\n",
    "\n",
    "import pandas as pd\n",
    "import numpy as np\n",
    "import matplotlib.pyplot as plt\n",
    "from scipy.stats import ttest_ind\n",
    "import seaborn as sns\n",
    "import os\n",
    "from IPython.display import display, HTML\n",
    "\n",
    "from utils import *\n",
    "from utils.plot_utils import *\n",
    "\n",
    "pd.set_option('display.max_rows', 500)"
   ]
  },
  {
   "cell_type": "code",
   "execution_count": 2,
   "metadata": {},
   "outputs": [],
   "source": [
    "orig_df = \"/n/holylabs/LABS/sitanc_lab/Users/mfli/critical-windows-lm/results/QANoiseDenoise/ReviseCW_model=meta-llama-Llama-3.1-8B-Instruct_dataset_name=competition_math_jump=0.50_decline=-0.30/df.csv\"\n",
    "revised_cw = \"/n/holylabs/LABS/sitanc_lab/Users/mfli/critical-windows-lm/results/QANoiseDenoise/ReviseCW_model=meta-llama-Llama-3.1-8B-Instruct_dataset_name=competition_math_jump=0.50_decline=-0.30/dataset_with_cw_revised.csv\""
   ]
  },
  {
   "cell_type": "markdown",
   "metadata": {},
   "source": [
    "## CoT over MATH dataset\n"
   ]
  },
  {
   "cell_type": "code",
   "execution_count": 3,
   "metadata": {},
   "outputs": [],
   "source": [
    "combined_df = pd.read_csv(orig_df)\n",
    "combined_df[\"dataset_source\"]=\"MATH\"\n",
    "uniq_stop_fracs = [0]+list(map(lambda x:float(x), list(combined_df.stop_frac.unique())))"
   ]
  },
  {
   "cell_type": "code",
   "execution_count": 4,
   "metadata": {},
   "outputs": [
    {
     "name": "stdout",
     "output_type": "stream",
     "text": [
      "(296040, 23)\n",
      "272477\n",
      "(296040, 23)\n"
     ]
    }
   ],
   "source": [
    "print(combined_df.shape)\n",
    "print(len(combined_df.no_deno_string_ans.unique()))\n",
    "combined_df = combined_df[~combined_df.formatted_answer.isna()]\n",
    "print(combined_df.shape)"
   ]
  },
  {
   "cell_type": "code",
   "execution_count": 5,
   "metadata": {},
   "outputs": [
    {
     "data": {
      "text/plain": [
       "4934"
      ]
     },
     "execution_count": 5,
     "metadata": {},
     "output_type": "execute_result"
    }
   ],
   "source": [
    "len(combined_df.problem.unique())"
   ]
  },
  {
   "cell_type": "code",
   "execution_count": 6,
   "metadata": {},
   "outputs": [
    {
     "data": {
      "text/html": [
       "<div>\n",
       "<style scoped>\n",
       "    .dataframe tbody tr th:only-of-type {\n",
       "        vertical-align: middle;\n",
       "    }\n",
       "\n",
       "    .dataframe tbody tr th {\n",
       "        vertical-align: top;\n",
       "    }\n",
       "\n",
       "    .dataframe thead th {\n",
       "        text-align: right;\n",
       "    }\n",
       "</style>\n",
       "<table border=\"1\" class=\"dataframe\">\n",
       "  <thead>\n",
       "    <tr style=\"text-align: right;\">\n",
       "      <th></th>\n",
       "      <th>0.05</th>\n",
       "      <th>0.1</th>\n",
       "      <th>0.3</th>\n",
       "      <th>0.5</th>\n",
       "      <th>0.7</th>\n",
       "      <th>0.9</th>\n",
       "      <th>orig_is_right</th>\n",
       "    </tr>\n",
       "    <tr>\n",
       "      <th>dataset_source</th>\n",
       "      <th></th>\n",
       "      <th></th>\n",
       "      <th></th>\n",
       "      <th></th>\n",
       "      <th></th>\n",
       "      <th></th>\n",
       "      <th></th>\n",
       "    </tr>\n",
       "  </thead>\n",
       "  <tbody>\n",
       "    <tr>\n",
       "      <th>MATH</th>\n",
       "      <td>0.475841</td>\n",
       "      <td>0.474078</td>\n",
       "      <td>0.469964</td>\n",
       "      <td>0.474787</td>\n",
       "      <td>0.476388</td>\n",
       "      <td>0.479145</td>\n",
       "      <td>0.475882</td>\n",
       "    </tr>\n",
       "  </tbody>\n",
       "</table>\n",
       "</div>"
      ],
      "text/plain": [
       "                    0.05       0.1       0.3       0.5       0.7       0.9  \\\n",
       "dataset_source                                                               \n",
       "MATH            0.475841  0.474078  0.469964  0.474787  0.476388  0.479145   \n",
       "\n",
       "                orig_is_right  \n",
       "dataset_source                 \n",
       "MATH                 0.475882  "
      ]
     },
     "metadata": {},
     "output_type": "display_data"
    }
   ],
   "source": [
    "display(display_then_plot(combined_df, \"is_right\",\"orig_is_right\",\"Fraction of noise-denoise is right\"))\n",
    "plt.close()"
   ]
  },
  {
   "cell_type": "code",
   "execution_count": 7,
   "metadata": {},
   "outputs": [
    {
     "data": {
      "text/html": [
       "<div>\n",
       "<style scoped>\n",
       "    .dataframe tbody tr th:only-of-type {\n",
       "        vertical-align: middle;\n",
       "    }\n",
       "\n",
       "    .dataframe tbody tr th {\n",
       "        vertical-align: top;\n",
       "    }\n",
       "\n",
       "    .dataframe thead th {\n",
       "        text-align: right;\n",
       "    }\n",
       "</style>\n",
       "<table border=\"1\" class=\"dataframe\">\n",
       "  <thead>\n",
       "    <tr style=\"text-align: right;\">\n",
       "      <th></th>\n",
       "      <th>0.05</th>\n",
       "      <th>0.1</th>\n",
       "      <th>0.3</th>\n",
       "      <th>0.5</th>\n",
       "      <th>0.7</th>\n",
       "      <th>0.9</th>\n",
       "      <th>orig_is_right</th>\n",
       "    </tr>\n",
       "    <tr>\n",
       "      <th>dataset_source</th>\n",
       "      <th></th>\n",
       "      <th></th>\n",
       "      <th></th>\n",
       "      <th></th>\n",
       "      <th></th>\n",
       "      <th></th>\n",
       "      <th></th>\n",
       "    </tr>\n",
       "  </thead>\n",
       "  <tbody>\n",
       "    <tr>\n",
       "      <th>MATH</th>\n",
       "      <td>0.092015</td>\n",
       "      <td>0.116944</td>\n",
       "      <td>0.149777</td>\n",
       "      <td>0.170045</td>\n",
       "      <td>0.220105</td>\n",
       "      <td>0.375963</td>\n",
       "      <td>0.475882</td>\n",
       "    </tr>\n",
       "  </tbody>\n",
       "</table>\n",
       "</div>"
      ],
      "text/plain": [
       "                    0.05       0.1       0.3       0.5       0.7       0.9  \\\n",
       "dataset_source                                                               \n",
       "MATH            0.092015  0.116944  0.149777  0.170045  0.220105  0.375963   \n",
       "\n",
       "                orig_is_right  \n",
       "dataset_source                 \n",
       "MATH                 0.475882  "
      ]
     },
     "metadata": {},
     "output_type": "display_data"
    }
   ],
   "source": [
    "display(display_then_plot(combined_df, \"stump_is_right\",\"orig_is_right\",\"Fraction of stump is right\"))\n",
    "plt.close()"
   ]
  },
  {
   "cell_type": "code",
   "execution_count": 8,
   "metadata": {},
   "outputs": [
    {
     "data": {
      "text/html": [
       "<div>\n",
       "<style scoped>\n",
       "    .dataframe tbody tr th:only-of-type {\n",
       "        vertical-align: middle;\n",
       "    }\n",
       "\n",
       "    .dataframe tbody tr th {\n",
       "        vertical-align: top;\n",
       "    }\n",
       "\n",
       "    .dataframe thead th {\n",
       "        text-align: right;\n",
       "    }\n",
       "</style>\n",
       "<table border=\"1\" class=\"dataframe\">\n",
       "  <thead>\n",
       "    <tr style=\"text-align: right;\">\n",
       "      <th>stop_frac</th>\n",
       "      <th>0.05</th>\n",
       "      <th>0.10</th>\n",
       "      <th>0.30</th>\n",
       "      <th>0.50</th>\n",
       "      <th>0.70</th>\n",
       "      <th>0.90</th>\n",
       "    </tr>\n",
       "    <tr>\n",
       "      <th>dataset_source</th>\n",
       "      <th></th>\n",
       "      <th></th>\n",
       "      <th></th>\n",
       "      <th></th>\n",
       "      <th></th>\n",
       "      <th></th>\n",
       "    </tr>\n",
       "  </thead>\n",
       "  <tbody>\n",
       "    <tr>\n",
       "      <th>MATH</th>\n",
       "      <td>0.446879</td>\n",
       "      <td>0.461066</td>\n",
       "      <td>0.518768</td>\n",
       "      <td>0.584901</td>\n",
       "      <td>0.666478</td>\n",
       "      <td>0.792542</td>\n",
       "    </tr>\n",
       "  </tbody>\n",
       "</table>\n",
       "</div>"
      ],
      "text/plain": [
       "stop_frac           0.05      0.10      0.30      0.50      0.70      0.90\n",
       "dataset_source                                                            \n",
       "MATH            0.446879  0.461066  0.518768  0.584901  0.666478  0.792542"
      ]
     },
     "metadata": {},
     "output_type": "display_data"
    }
   ],
   "source": [
    "display(display_then_plot(combined_df, \"is_consistent\",None,\"Fraction of noise-denoise is consistent\"))\n",
    "plt.close()"
   ]
  },
  {
   "cell_type": "code",
   "execution_count": 9,
   "metadata": {},
   "outputs": [
    {
     "data": {
      "text/html": [
       "<div>\n",
       "<style scoped>\n",
       "    .dataframe tbody tr th:only-of-type {\n",
       "        vertical-align: middle;\n",
       "    }\n",
       "\n",
       "    .dataframe tbody tr th {\n",
       "        vertical-align: top;\n",
       "    }\n",
       "\n",
       "    .dataframe thead th {\n",
       "        text-align: right;\n",
       "    }\n",
       "</style>\n",
       "<table border=\"1\" class=\"dataframe\">\n",
       "  <thead>\n",
       "    <tr style=\"text-align: right;\">\n",
       "      <th>stop_frac</th>\n",
       "      <th>0.05</th>\n",
       "      <th>0.10</th>\n",
       "      <th>0.30</th>\n",
       "      <th>0.50</th>\n",
       "      <th>0.70</th>\n",
       "      <th>0.90</th>\n",
       "    </tr>\n",
       "    <tr>\n",
       "      <th>dataset_source</th>\n",
       "      <th></th>\n",
       "      <th></th>\n",
       "      <th></th>\n",
       "      <th></th>\n",
       "      <th></th>\n",
       "      <th></th>\n",
       "    </tr>\n",
       "  </thead>\n",
       "  <tbody>\n",
       "    <tr>\n",
       "      <th>MATH</th>\n",
       "      <td>0.127888</td>\n",
       "      <td>0.150993</td>\n",
       "      <td>0.201257</td>\n",
       "      <td>0.236927</td>\n",
       "      <td>0.328131</td>\n",
       "      <td>0.586745</td>\n",
       "    </tr>\n",
       "  </tbody>\n",
       "</table>\n",
       "</div>"
      ],
      "text/plain": [
       "stop_frac           0.05      0.10      0.30      0.50      0.70      0.90\n",
       "dataset_source                                                            \n",
       "MATH            0.127888  0.150993  0.201257  0.236927  0.328131  0.586745"
      ]
     },
     "metadata": {},
     "output_type": "display_data"
    }
   ],
   "source": [
    "display(display_then_plot(combined_df, \"stump_is_consistent\",None,\"Fraction of stump is consistent\"))\n",
    "plt.close()"
   ]
  },
  {
   "cell_type": "markdown",
   "metadata": {},
   "source": [
    "## See differences in accuracy for different critical windows"
   ]
  },
  {
   "cell_type": "code",
   "execution_count": 10,
   "metadata": {},
   "outputs": [
    {
     "data": {
      "text/html": [
       "<div>\n",
       "<style scoped>\n",
       "    .dataframe tbody tr th:only-of-type {\n",
       "        vertical-align: middle;\n",
       "    }\n",
       "\n",
       "    .dataframe tbody tr th {\n",
       "        vertical-align: top;\n",
       "    }\n",
       "\n",
       "    .dataframe thead th {\n",
       "        text-align: right;\n",
       "    }\n",
       "</style>\n",
       "<table border=\"1\" class=\"dataframe\">\n",
       "  <thead>\n",
       "    <tr style=\"text-align: right;\">\n",
       "      <th></th>\n",
       "      <th>is_cw</th>\n",
       "      <th>orig_is_right</th>\n",
       "    </tr>\n",
       "  </thead>\n",
       "  <tbody>\n",
       "    <tr>\n",
       "      <th>count</th>\n",
       "      <td>4934.000000</td>\n",
       "      <td>4934.000000</td>\n",
       "    </tr>\n",
       "    <tr>\n",
       "      <th>mean</th>\n",
       "      <td>0.195176</td>\n",
       "      <td>0.475882</td>\n",
       "    </tr>\n",
       "    <tr>\n",
       "      <th>std</th>\n",
       "      <td>0.396377</td>\n",
       "      <td>0.499469</td>\n",
       "    </tr>\n",
       "    <tr>\n",
       "      <th>min</th>\n",
       "      <td>0.000000</td>\n",
       "      <td>0.000000</td>\n",
       "    </tr>\n",
       "    <tr>\n",
       "      <th>25%</th>\n",
       "      <td>0.000000</td>\n",
       "      <td>0.000000</td>\n",
       "    </tr>\n",
       "    <tr>\n",
       "      <th>50%</th>\n",
       "      <td>0.000000</td>\n",
       "      <td>0.000000</td>\n",
       "    </tr>\n",
       "    <tr>\n",
       "      <th>75%</th>\n",
       "      <td>0.000000</td>\n",
       "      <td>1.000000</td>\n",
       "    </tr>\n",
       "    <tr>\n",
       "      <th>max</th>\n",
       "      <td>1.000000</td>\n",
       "      <td>1.000000</td>\n",
       "    </tr>\n",
       "  </tbody>\n",
       "</table>\n",
       "</div>"
      ],
      "text/plain": [
       "             is_cw  orig_is_right\n",
       "count  4934.000000    4934.000000\n",
       "mean      0.195176       0.475882\n",
       "std       0.396377       0.499469\n",
       "min       0.000000       0.000000\n",
       "25%       0.000000       0.000000\n",
       "50%       0.000000       0.000000\n",
       "75%       0.000000       1.000000\n",
       "max       1.000000       1.000000"
      ]
     },
     "execution_count": 10,
     "metadata": {},
     "output_type": "execute_result"
    }
   ],
   "source": [
    "combined_df.groupby(\"problem\")[[\"is_cw\",\"orig_is_right\"]].apply(lambda x:x.astype(float).mean()).reset_index().describe()"
   ]
  },
  {
   "cell_type": "code",
   "execution_count": 11,
   "metadata": {},
   "outputs": [
    {
     "data": {
      "text/html": [
       "<div>\n",
       "<style scoped>\n",
       "    .dataframe tbody tr th:only-of-type {\n",
       "        vertical-align: middle;\n",
       "    }\n",
       "\n",
       "    .dataframe tbody tr th {\n",
       "        vertical-align: top;\n",
       "    }\n",
       "\n",
       "    .dataframe thead th {\n",
       "        text-align: right;\n",
       "    }\n",
       "</style>\n",
       "<table border=\"1\" class=\"dataframe\">\n",
       "  <thead>\n",
       "    <tr style=\"text-align: right;\">\n",
       "      <th></th>\n",
       "      <th>is_cw</th>\n",
       "      <th>orig_is_right</th>\n",
       "    </tr>\n",
       "  </thead>\n",
       "  <tbody>\n",
       "    <tr>\n",
       "      <th>count</th>\n",
       "      <td>4934.000000</td>\n",
       "      <td>4934.000000</td>\n",
       "    </tr>\n",
       "    <tr>\n",
       "      <th>mean</th>\n",
       "      <td>0.195176</td>\n",
       "      <td>0.475882</td>\n",
       "    </tr>\n",
       "    <tr>\n",
       "      <th>std</th>\n",
       "      <td>0.396377</td>\n",
       "      <td>0.499469</td>\n",
       "    </tr>\n",
       "    <tr>\n",
       "      <th>min</th>\n",
       "      <td>0.000000</td>\n",
       "      <td>0.000000</td>\n",
       "    </tr>\n",
       "    <tr>\n",
       "      <th>25%</th>\n",
       "      <td>0.000000</td>\n",
       "      <td>0.000000</td>\n",
       "    </tr>\n",
       "    <tr>\n",
       "      <th>50%</th>\n",
       "      <td>0.000000</td>\n",
       "      <td>0.000000</td>\n",
       "    </tr>\n",
       "    <tr>\n",
       "      <th>75%</th>\n",
       "      <td>0.000000</td>\n",
       "      <td>1.000000</td>\n",
       "    </tr>\n",
       "    <tr>\n",
       "      <th>max</th>\n",
       "      <td>1.000000</td>\n",
       "      <td>1.000000</td>\n",
       "    </tr>\n",
       "  </tbody>\n",
       "</table>\n",
       "</div>"
      ],
      "text/plain": [
       "             is_cw  orig_is_right\n",
       "count  4934.000000    4934.000000\n",
       "mean      0.195176       0.475882\n",
       "std       0.396377       0.499469\n",
       "min       0.000000       0.000000\n",
       "25%       0.000000       0.000000\n",
       "50%       0.000000       0.000000\n",
       "75%       0.000000       1.000000\n",
       "max       1.000000       1.000000"
      ]
     },
     "execution_count": 11,
     "metadata": {},
     "output_type": "execute_result"
    }
   ],
   "source": [
    "df_by_problem = combined_df.groupby(\"problem\")[[\"is_cw\",\"orig_is_right\"]].mean().reset_index()\n",
    "df_by_problem.describe()"
   ]
  },
  {
   "cell_type": "code",
   "execution_count": 12,
   "metadata": {},
   "outputs": [
    {
     "data": {
      "text/html": [
       "<div>\n",
       "<style scoped>\n",
       "    .dataframe tbody tr th:only-of-type {\n",
       "        vertical-align: middle;\n",
       "    }\n",
       "\n",
       "    .dataframe tbody tr th {\n",
       "        vertical-align: top;\n",
       "    }\n",
       "\n",
       "    .dataframe thead th {\n",
       "        text-align: right;\n",
       "    }\n",
       "</style>\n",
       "<table border=\"1\" class=\"dataframe\">\n",
       "  <thead>\n",
       "    <tr style=\"text-align: right;\">\n",
       "      <th></th>\n",
       "      <th>orig_is_right (is_cw=0)</th>\n",
       "      <th>orig_is_right (is_cw=1)</th>\n",
       "    </tr>\n",
       "    <tr>\n",
       "      <th>dataset_source</th>\n",
       "      <th></th>\n",
       "      <th></th>\n",
       "    </tr>\n",
       "  </thead>\n",
       "  <tbody>\n",
       "    <tr>\n",
       "      <th>MATH</th>\n",
       "      <td>0.564845</td>\n",
       "      <td>0.109034</td>\n",
       "    </tr>\n",
       "  </tbody>\n",
       "</table>\n",
       "</div>"
      ],
      "text/plain": [
       "                orig_is_right (is_cw=0)  orig_is_right (is_cw=1)\n",
       "dataset_source                                                  \n",
       "MATH                           0.564845                 0.109034"
      ]
     },
     "metadata": {},
     "output_type": "display_data"
    },
    {
     "data": {
      "text/html": [
       "<div>\n",
       "<style scoped>\n",
       "    .dataframe tbody tr th:only-of-type {\n",
       "        vertical-align: middle;\n",
       "    }\n",
       "\n",
       "    .dataframe tbody tr th {\n",
       "        vertical-align: top;\n",
       "    }\n",
       "\n",
       "    .dataframe thead th {\n",
       "        text-align: right;\n",
       "    }\n",
       "</style>\n",
       "<table border=\"1\" class=\"dataframe\">\n",
       "  <thead>\n",
       "    <tr style=\"text-align: right;\">\n",
       "      <th></th>\n",
       "      <th>is_cw (orig_is_right=0)</th>\n",
       "      <th>is_cw (orig_is_right=1)</th>\n",
       "    </tr>\n",
       "    <tr>\n",
       "      <th>dataset_source</th>\n",
       "      <th></th>\n",
       "      <th></th>\n",
       "    </tr>\n",
       "  </thead>\n",
       "  <tbody>\n",
       "    <tr>\n",
       "      <th>MATH</th>\n",
       "      <td>0.331787</td>\n",
       "      <td>0.044719</td>\n",
       "    </tr>\n",
       "  </tbody>\n",
       "</table>\n",
       "</div>"
      ],
      "text/plain": [
       "                is_cw (orig_is_right=0)  is_cw (orig_is_right=1)\n",
       "dataset_source                                                  \n",
       "MATH                           0.331787                 0.044719"
      ]
     },
     "metadata": {},
     "output_type": "display_data"
    },
    {
     "name": "stdout",
     "output_type": "stream",
     "text": [
      "  dataset_source  p_value (orig_is_right by is_cw)\n",
      "0           MATH                               0.0\n",
      "  dataset_source  p_value (is_cw by orig_is_right)\n",
      "0           MATH                               0.0\n"
     ]
    },
    {
     "name": "stderr",
     "output_type": "stream",
     "text": [
      "/tmp/ipykernel_2471026/3474905930.py:26: DeprecationWarning: DataFrameGroupBy.apply operated on the grouping columns. This behavior is deprecated, and in a future version of pandas the grouping columns will be excluded from the operation. Either pass `include_groups=False` to exclude the groupings or explicitly select the grouping columns after groupby to silence this warning.\n",
      "  p_values_orig_is_right = combined_df.groupby('dataset_source').apply(compute_p_values_orig_is_right).reset_index()\n",
      "/tmp/ipykernel_2471026/3474905930.py:29: DeprecationWarning: DataFrameGroupBy.apply operated on the grouping columns. This behavior is deprecated, and in a future version of pandas the grouping columns will be excluded from the operation. Either pass `include_groups=False` to exclude the groupings or explicitly select the grouping columns after groupby to silence this warning.\n",
      "  p_values_is_cw = combined_df.groupby('dataset_source').apply(compute_p_values_is_cw).reset_index()\n"
     ]
    }
   ],
   "source": [
    "# Compute means for orig_is_right based on is_cw\n",
    "result1 = combined_df.groupby([\"dataset_source\", \"is_cw\"])[\"orig_is_right\"].mean().unstack()\n",
    "result1.columns = ['orig_is_right (is_cw=0)', 'orig_is_right (is_cw=1)']\n",
    "display(result1)\n",
    "\n",
    "# Compute means for is_cw based on orig_is_right\n",
    "result2 = combined_df.groupby([\"dataset_source\", \"orig_is_right\"])[\"is_cw\"].mean().unstack()\n",
    "result2.columns = ['is_cw (orig_is_right=0)', 'is_cw (orig_is_right=1)']\n",
    "display(result2)\n",
    "\n",
    "# Function to compute p-values for orig_is_right based on is_cw\n",
    "def compute_p_values_orig_is_right(group):\n",
    "    group_is_cw_0 = group[group['is_cw'] == 0]['orig_is_right'].astype(float)\n",
    "    group_is_cw_1 = group[group['is_cw'] == 1]['orig_is_right'].astype(float)\n",
    "    _, p_value = ttest_ind(group_is_cw_0, group_is_cw_1, equal_var=False, nan_policy='omit')\n",
    "    return p_value\n",
    "\n",
    "# Function to compute p-values for is_cw based on orig_is_right\n",
    "def compute_p_values_is_cw(group):\n",
    "    group_orig_is_right_0 = group[group['orig_is_right'] == 0]['is_cw'].astype(float)\n",
    "    group_orig_is_right_1 = group[group['orig_is_right'] == 1]['is_cw'].astype(float)\n",
    "    _, p_value = ttest_ind(group_orig_is_right_0, group_orig_is_right_1, equal_var=False, nan_policy='omit')\n",
    "    return p_value\n",
    "\n",
    "# Group by dataset_source and compute p-values for both analyses\n",
    "p_values_orig_is_right = combined_df.groupby('dataset_source').apply(compute_p_values_orig_is_right).reset_index()\n",
    "p_values_orig_is_right.columns = ['dataset_source', 'p_value (orig_is_right by is_cw)']\n",
    "\n",
    "p_values_is_cw = combined_df.groupby('dataset_source').apply(compute_p_values_is_cw).reset_index()\n",
    "p_values_is_cw.columns = ['dataset_source', 'p_value (is_cw by orig_is_right)']\n",
    "\n",
    "# Display the p-values\n",
    "print(p_values_orig_is_right)\n",
    "print(p_values_is_cw)"
   ]
  },
  {
   "cell_type": "markdown",
   "metadata": {},
   "source": [
    "### Resampling before cw"
   ]
  },
  {
   "cell_type": "code",
   "execution_count": 13,
   "metadata": {},
   "outputs": [
    {
     "name": "stdout",
     "output_type": "stream",
     "text": [
      "0.4758816376165383\n",
      "0.4937373327928658\n"
     ]
    },
    {
     "data": {
      "text/plain": [
       "TtestResult(statistic=np.float64(1.7726541888725025), pvalue=np.float64(0.038158438599821806), df=np.float64(9866.0))"
      ]
     },
     "execution_count": 13,
     "metadata": {},
     "output_type": "execute_result"
    }
   ],
   "source": [
    "## Resampling\n",
    "resample = (combined_df.groupby(\"problem\")[\"is_right_cw\"].mean())\n",
    "original = (combined_df.groupby(\"problem\")[\"orig_is_right\"].mean())\n",
    "bernoulli_samples = np.random.binomial(n=1, p=resample)\n",
    "\n",
    "from scipy.stats import ttest_ind\n",
    "print((combined_df.groupby(\"problem\")[\"orig_is_right\"].mean()).mean())\n",
    "print((combined_df.groupby(\"problem\")[\"is_right_cw\"].mean()).mean())\n",
    "ttest_ind(bernoulli_samples, original.astype(float).values,   alternative=\"greater\")"
   ]
  },
  {
   "cell_type": "markdown",
   "metadata": {},
   "source": [
    "### Mode of cws"
   ]
  },
  {
   "cell_type": "code",
   "execution_count": 14,
   "metadata": {
    "scrolled": true
   },
   "outputs": [
    {
     "name": "stderr",
     "output_type": "stream",
     "text": [
      "  0%|                                                                                                                    | 0/963 [00:00<?, ?it/s]/tmp/ipykernel_2471026/759230934.py:13: FutureWarning: Setting an item of incompatible dtype is deprecated and will raise an error in a future version of pandas. Value '1.0' has dtype incompatible with bool, please explicitly cast to a compatible dtype first.\n",
      "  combined_df.loc[combined_df.problem==problem, \"is_right_cw_mode\"] = float(is_right_mode)\n",
      "100%|██████████████████████████████████████████████████████████████████████████████████████████████████████████| 963/963 [00:26<00:00, 36.57it/s]\n"
     ]
    }
   ],
   "source": [
    "problem_to_mode = []\n",
    "combined_df[\"is_right_cw_mode\"]=combined_df[\"orig_is_right\"]\n",
    "for problem in tqdm(combined_df[combined_df.is_cw].problem.unique()):\n",
    "    filtered_df = combined_df[combined_df.problem==problem]\n",
    "    filtered_df = filtered_df[filtered_df.stop_frac==filtered_df.stop_frac_cw.unique()[0]]\n",
    "    mode = filtered_df.no_deno_ans_format.mode()[0]\n",
    "    is_right_mode = filtered_df[filtered_df.no_deno_ans_format==mode].is_right.iloc[0]\n",
    "    problem_to_mode.append({\"problem\":problem,\n",
    "                            \"answer_mode\":mode,\n",
    "                            \"is_right_sample\":filtered_df.is_right.mean(),\n",
    "                            \"is_right_mode\":is_right_mode,\n",
    "                           })\n",
    "    combined_df.loc[combined_df.problem==problem, \"is_right_cw_mode\"] = float(is_right_mode)\n",
    "problem_to_mode_df = pd.DataFrame(problem_to_mode)"
   ]
  },
  {
   "cell_type": "code",
   "execution_count": 15,
   "metadata": {},
   "outputs": [
    {
     "data": {
      "text/plain": [
       "is_right_sample    0.200519\n",
       "is_right_mode      0.275182\n",
       "dtype: float64"
      ]
     },
     "execution_count": 15,
     "metadata": {},
     "output_type": "execute_result"
    }
   ],
   "source": [
    "problem_to_mode_df[[\"is_right_sample\",\"is_right_mode\"]].mean()"
   ]
  },
  {
   "cell_type": "code",
   "execution_count": 16,
   "metadata": {},
   "outputs": [
    {
     "name": "stdout",
     "output_type": "stream",
     "text": [
      "0.4758816376165383\n",
      "0.5083096878800162\n"
     ]
    },
    {
     "data": {
      "text/plain": [
       "TtestResult(statistic=np.float64(3.22310306146682), pvalue=np.float64(0.0006361104404211738), df=np.float64(9866.0))"
      ]
     },
     "execution_count": 16,
     "metadata": {},
     "output_type": "execute_result"
    }
   ],
   "source": [
    "mode = (combined_df.groupby(\"problem\")[\"is_right_cw_mode\"].mean())\n",
    "original = (combined_df.groupby(\"problem\")[\"orig_is_right\"].mean())\n",
    "\n",
    "from scipy.stats import ttest_ind\n",
    "print(original.mean())\n",
    "print(mode.mean())\n",
    "ttest_ind(mode.astype(float).values, original.astype(float).values, alternative=\"greater\")"
   ]
  },
  {
   "cell_type": "markdown",
   "metadata": {},
   "source": [
    "## Applying it to both with and without critical windows"
   ]
  },
  {
   "cell_type": "code",
   "execution_count": 17,
   "metadata": {},
   "outputs": [],
   "source": [
    "combined_df[\"regenerate_all\"] = 0.05 "
   ]
  },
  {
   "cell_type": "code",
   "execution_count": 23,
   "metadata": {
    "scrolled": true
   },
   "outputs": [
    {
     "name": "stdout",
     "output_type": "stream",
     "text": [
      "regenerate_all_mode\n",
      "1.0    174420\n",
      "0.0    121620\n",
      "Name: count, dtype: int64\n"
     ]
    }
   ],
   "source": [
    "combined_df[\"regenerate_all_mode\"]=np.nan\n",
    "for problem in tqdm(combined_df.problem.unique()):\n",
    "    filtered_df = combined_df[combined_df.problem==problem]\n",
    "    filtered_df = filtered_df[filtered_df.stop_frac==filtered_df.regenerate_all.unique()[0]]\n",
    "    mode = filtered_df.no_deno_ans_format.mode()[0]\n",
    "    \n",
    "    is_right_mode = filtered_df[filtered_df.no_deno_ans_format==mode].is_right.iloc[0]\n",
    "    combined_df.loc[combined_df.problem==problem, \"regenerate_all_mode\"] = float(is_right_mode)\n",
    "print(combined_df.regenerate_all_mode.value_counts())"
   ]
  },
  {
   "cell_type": "code",
   "execution_count": 24,
   "metadata": {},
   "outputs": [
    {
     "name": "stdout",
     "output_type": "stream",
     "text": [
      "0.4758816376165383\n",
      "0.5891771382245643\n"
     ]
    },
    {
     "data": {
      "text/plain": [
       "TtestResult(statistic=np.float64(11.350672547155037), pvalue=np.float64(5.619763104703847e-30), df=np.float64(9866.0))"
      ]
     },
     "execution_count": 24,
     "metadata": {},
     "output_type": "execute_result"
    }
   ],
   "source": [
    "mode_all = (combined_df.groupby(\"problem\")[\"regenerate_all_mode\"].mean())\n",
    "original = (combined_df.groupby(\"problem\")[\"orig_is_right\"].mean())\n",
    "\n",
    "from scipy.stats import ttest_ind\n",
    "print(original.mean())\n",
    "print(mode_all.mean())\n",
    "ttest_ind(mode_all.values, original.astype(float).values, alternative=\"greater\")"
   ]
  },
  {
   "cell_type": "code",
   "execution_count": 25,
   "metadata": {},
   "outputs": [
    {
     "data": {
      "text/plain": [
       "is_cw\n",
       "False    0.564845\n",
       "True     0.109034\n",
       "Name: orig_is_right, dtype: float64"
      ]
     },
     "metadata": {},
     "output_type": "display_data"
    },
    {
     "data": {
      "text/plain": [
       "is_cw\n",
       "False    0.564845\n",
       "True     0.275182\n",
       "Name: is_right_cw_mode, dtype: object"
      ]
     },
     "metadata": {},
     "output_type": "display_data"
    },
    {
     "data": {
      "text/plain": [
       "is_cw\n",
       "False    0.635860\n",
       "True     0.396677\n",
       "Name: regenerate_all_mode, dtype: float64"
      ]
     },
     "metadata": {},
     "output_type": "display_data"
    }
   ],
   "source": [
    "display(combined_df.groupby([\"problem\",\"is_cw\"])[\"orig_is_right\"].mean().groupby(\"is_cw\").mean())\n",
    "display(combined_df.groupby([\"problem\",\"is_cw\"])[\"is_right_cw_mode\"].mean().groupby(\"is_cw\").mean())\n",
    "display(combined_df.groupby([\"problem\",\"is_cw\"])[\"regenerate_all_mode\"].mean().groupby(\"is_cw\").mean())"
   ]
  },
  {
   "cell_type": "markdown",
   "metadata": {},
   "source": [
    "# Does asking the model to revise work?"
   ]
  },
  {
   "cell_type": "code",
   "execution_count": 26,
   "metadata": {},
   "outputs": [],
   "source": [
    "cw_revised = pd.read_csv(revised_cw)"
   ]
  },
  {
   "cell_type": "code",
   "execution_count": 27,
   "metadata": {
    "scrolled": true
   },
   "outputs": [
    {
     "name": "stdout",
     "output_type": "stream",
     "text": [
      "<|begin_of_text|><|begin_of_text|><|start_header_id|>system<|end_header_id|>\n",
      "\n",
      "Produce a correct solution to the following math question.<|eot_id|><|start_header_id|>user<|end_header_id|>\n",
      "\n",
      "Let $x_1,$ $x_2,$ $\\dots,$ $x_{101}$ be positive real numbers such that $x_1^2 + x_2^2 + \\dots + x_{101}^2 = 1.$  Find the maximum value of\n",
      "\\[x_1 x_2 + x_1 x_3 + \\dots + x_1 x_{101}.\\]\n",
      "\n",
      "\n",
      "Think of the math question thoroughly step by step.     Please only respond with the answer after reasoning thoroughly. \n",
      "\n",
      "<|eot_id|><|start_header_id|>assistant<|end_header_id|>\n",
      "\n",
      "\n",
      "\n",
      "Let's think step by step:  We are given that $x_1^2 + x_2^2 + \\dots + x_{101}^2 = 1.$  We want to find the maximum value of\n",
      "\\[x_1 x_2 + x_1 x_3 + \\dots + x_1 x_{101}.\\]\n",
      "We can start by noting that the given sum can be rewritten as\n",
      "\\[x_1 \\sum_{i = 2}^{101} x_i.\\]\n",
      "Since the sum of squares of all the numbers is equal to 1, we can think of each $x_i$ as the distance of the point from the origin in a 101-dimensional space. Then, the sum of squares of all the numbers is equal to 1, which means that the point lies on the surface of a unit hypersphere in 101-dimensional space.\n",
      "Now, we can apply the Cauchy-Schwarz inequality, which states that for any vectors $\\mathbf{a}$ and $\\mathbf{b}$ in an inner product space, we have\n",
      "\\[\\left(\\sum_{i = 1}^n a_i b_i\\right)^2 \\leq \\left(\\sum_{i = 1}^n a_i^2\\right) \\left(\\sum_{i = 1}^n b_i^2\\right).\\]\n",
      "In our case, we can take $\\mathbf{a} = (x_2, x_3, \\dots, x_{101})$ and $\\mathbf{b} = (1, 1, \\dots, 1)$, and we get\n",
      "\\[\\left(\\sum_{i = 2}^{101} x_i\\right)^2 \\leq 100 \\left(\\sum_{i = 2}^{101} x_i^2\\right).\\]\n",
      "Since we are given that $\\sum_{i = 1}^{101} x_i^2 = 1$, we have $\\sum_{i = 2}^{101} x_i^2 = 1 - x_1^2$. Therefore,\n",
      "\\[\\left(\\sum_{i = 2}^{101} x_i\\right)^2 \\leq 100 (1 - x_1^2).\\]\n",
      "Taking the square root of both sides, we get\n",
      "\\[\\sum_{i = 2}^{101} x_i \\leq \\sqrt{100 (1 - x_1^2)} = 10 \\sqrt{1 - x_1^2}.\\]\n",
      "Now, we can substitute this back into the expression we want to maximize:\n",
      "\\[x_1 \\sum_{i = 2}^{101}<|start_header_id|>user<|end_header_id|>You may have made a mistake here. Think a little bit harder.<|eot_id|>\n",
      "\n",
      "<|eot_id|><|start_header_id|>assistant<|end_header_id|>\n",
      "\n",
      "Let's re-examine the problem.\n",
      "\n",
      "We are given that $x_1^2 + x_2^2 + \\dots + x_{101}^2 = 1.$  We want to find the maximum value of\n",
      "\\[x_1 x_2 + x_1 x_3 + \\dots + x_1 x_{101}.\\]\n",
      "We can rewrite this expression as\n",
      "\\[x_1 \\sum_{i = 2}^{101} x_i.\\]\n",
      "We can apply the Cauchy-Schwarz inequality, which states that for any vectors $\\mathbf{a}$ and $\\mathbf{b}$ in an inner product space, we have\n",
      "\\[\\left(\\sum_{i = 1}^n a_i b_i\\right)^2 \\leq \\left(\\sum_{i = 1}^n a_i^2\\right) \\left(\\sum_{i = 1}^n b_i^2\\right).\\]\n",
      "In our case, we can take $\\mathbf{a} = (x_2, x_3, \\dots, x_{101})$ and $\\mathbf{b} = (1, 1, \\dots, 1)$, and we get\n",
      "\\[\\left(x_1 \\sum_{i = 2}^{101} x_i\\right)^2 \\leq \\left(x_1^2 + x_2^2 + \\dots + x_{101}^2\\right) \\left(\\sum_{i = 2}^{101} 1^2\\right).\\]\n",
      "Since we are given that $x_1^2 + x_2^2 + \\dots + x_{101}^2 = 1$ and $\\sum_{i = 2}^{101} 1^2 = 100$, we have\n",
      "\\[\\left(x_1 \\sum_{i = 2}^{101} x_i\\right)^2 \\leq 1 \\cdot 100 = 100.\\]\n",
      "Taking the square root of both sides, we get\n",
      "\\[x_1 \\sum_{i = 2}^{101} x_i \\leq \\sqrt{100} = 10.\\]\n",
      "Therefore, the maximum value of $x_1 x_2 + x_1 x_3 + \\dots + x_1 x_{101}$ is $\\boxed{10}.$<|eot_id|><|start_header_id|>user<|end_header_id|>\n",
      "\n",
      "Given all of the above, what’s the single, most likely answer? Simplify it completely. Your answer should have the format \"The answer is $ANSWER$\", where ANSWER is your answer in LaTeX. \n",
      "\n",
      "<|eot_id|><|start_header_id|>assistant<|end_header_id|>\n",
      "\n",
      "The answer is $\\boxed{10}$.<|eot_id|>\n",
      "\n",
      "10\n",
      "\n"
     ]
    },
    {
     "data": {
      "text/html": [
       "<div>\n",
       "<style scoped>\n",
       "    .dataframe tbody tr th:only-of-type {\n",
       "        vertical-align: middle;\n",
       "    }\n",
       "\n",
       "    .dataframe tbody tr th {\n",
       "        vertical-align: top;\n",
       "    }\n",
       "\n",
       "    .dataframe thead th {\n",
       "        text-align: right;\n",
       "    }\n",
       "</style>\n",
       "<table border=\"1\" class=\"dataframe\">\n",
       "  <thead>\n",
       "    <tr style=\"text-align: right;\">\n",
       "      <th></th>\n",
       "      <th>revise_ans_string</th>\n",
       "      <th>revise_ans_format</th>\n",
       "    </tr>\n",
       "  </thead>\n",
       "  <tbody>\n",
       "    <tr>\n",
       "      <th>386</th>\n",
       "      <td>The answer is $\\boxed{-3}$.</td>\n",
       "      <td>-3</td>\n",
       "    </tr>\n",
       "    <tr>\n",
       "      <th>547</th>\n",
       "      <td>The answer is $\\frac{7}{16}$.</td>\n",
       "      <td>\\frac{7}{16}</td>\n",
       "    </tr>\n",
       "    <tr>\n",
       "      <th>591</th>\n",
       "      <td>The answer is $\\boxed{-2}$.</td>\n",
       "      <td>-2</td>\n",
       "    </tr>\n",
       "    <tr>\n",
       "      <th>96</th>\n",
       "      <td>The answer is $\\boxed{133}$.</td>\n",
       "      <td>133</td>\n",
       "    </tr>\n",
       "    <tr>\n",
       "      <th>693</th>\n",
       "      <td>The answer is $\\boxed{\\frac{13}{5}}$.</td>\n",
       "      <td>\\frac{13}{5}</td>\n",
       "    </tr>\n",
       "    <tr>\n",
       "      <th>604</th>\n",
       "      <td>The answer is $4x-5$.</td>\n",
       "      <td>4x-5</td>\n",
       "    </tr>\n",
       "    <tr>\n",
       "      <th>191</th>\n",
       "      <td>The answer is $\\boxed{4}$.</td>\n",
       "      <td>4</td>\n",
       "    </tr>\n",
       "    <tr>\n",
       "      <th>667</th>\n",
       "      <td>The answer is $\\boxed{4}$.</td>\n",
       "      <td>4</td>\n",
       "    </tr>\n",
       "    <tr>\n",
       "      <th>333</th>\n",
       "      <td>The answer is $\\frac{1}{2}$.</td>\n",
       "      <td>\\frac{1}{2}</td>\n",
       "    </tr>\n",
       "    <tr>\n",
       "      <th>66</th>\n",
       "      <td>The answer is $\\boxed{1}$.</td>\n",
       "      <td>1</td>\n",
       "    </tr>\n",
       "  </tbody>\n",
       "</table>\n",
       "</div>"
      ],
      "text/plain": [
       "                         revise_ans_string revise_ans_format\n",
       "386            The answer is $\\boxed{-3}$.                -3\n",
       "547          The answer is $\\frac{7}{16}$.      \\frac{7}{16}\n",
       "591            The answer is $\\boxed{-2}$.                -2\n",
       "96            The answer is $\\boxed{133}$.               133\n",
       "693  The answer is $\\boxed{\\frac{13}{5}}$.      \\frac{13}{5}\n",
       "604                  The answer is $4x-5$.              4x-5\n",
       "191             The answer is $\\boxed{4}$.                 4\n",
       "667             The answer is $\\boxed{4}$.                 4\n",
       "333           The answer is $\\frac{1}{2}$.       \\frac{1}{2}\n",
       "66              The answer is $\\boxed{1}$.                 1"
      ]
     },
     "metadata": {},
     "output_type": "display_data"
    }
   ],
   "source": [
    "## Inspect data for a second\n",
    "print(cw_revised[\"revise_string_ans\"].iloc[0])\n",
    "print()\n",
    "print(cw_revised[\"revise_ans_format\"].iloc[0])\n",
    "print()\n",
    "display(cw_revised.sample(10)[[\"revise_ans_string\",\"revise_ans_format\"]])"
   ]
  },
  {
   "cell_type": "code",
   "execution_count": 28,
   "metadata": {
    "scrolled": true
   },
   "outputs": [
    {
     "name": "stderr",
     "output_type": "stream",
     "text": [
      "/tmp/ipykernel_2471026/1278281193.py:13: FutureWarning: Setting an item of incompatible dtype is deprecated and will raise an error in a future version of pandas. Value '[False False False False False False False False False False True False\n",
      " True True True False False False False False False False False False\n",
      " False True True False True False False False False False False False\n",
      " False False False False False False False True False False False False\n",
      " False False False False False False False False False False False False\n",
      " False False False False False False False False False False False True\n",
      " False False False False False False False True False False False False\n",
      " False False False True True True False True False True False False False\n",
      " False False False False True True False True True False False False False\n",
      " False False False True False True True False False False False False\n",
      " False False True True False False False True True False False False True\n",
      " False False True False False False True False False False False True\n",
      " False False False False False True True False False False False False\n",
      " False True False True False False False False False False False True\n",
      " False False False True True False False True False True False False False\n",
      " False True False True False False False False False False False False\n",
      " False False False False False False False True False False False True\n",
      " False False False False False False False False True True True False\n",
      " False True False False False False False False False False False False\n",
      " False False False False True False False True False False False True\n",
      " False False False False False False False False False False False True\n",
      " False False False False False False False True False False False False\n",
      " False False False False True False True True False False True False True\n",
      " False False False False True False True False True True False False False\n",
      " True False True False False True True False False False False False False\n",
      " False False True False False False False False True False False True\n",
      " False False False False False False False False False False True False\n",
      " False False False False False True True False True False False False\n",
      " False False False False False False False True False True True False\n",
      " False False False True True True True False False False False False False\n",
      " True False False False False False False True False False False False\n",
      " True False False True True False True True False False False False True\n",
      " True False False False False False True True False False True False False\n",
      " False False False False True False True False False False True False\n",
      " False True False True False False False False False True False False\n",
      " False True False False False False True True True False True False False\n",
      " False True False True False False False False False False False False\n",
      " False False False False False False False False False False False True\n",
      " False False False False False True False False False False False False\n",
      " False False False False False False False False False False True True\n",
      " False False False False False False False False False False True False\n",
      " False False False False False False False False False False False False\n",
      " False False True False False False True False True False False False\n",
      " False False False False False False False False False False False False\n",
      " False False False False False False False False False False False True\n",
      " False False False False True False False False False False False False\n",
      " False False False True False False False True True False False False\n",
      " False False False True False False False False False False False True\n",
      " False False False False False False False False True False True False\n",
      " True False False False False False False False False True False False\n",
      " False False False False False False True False True False False False\n",
      " False False False False True True False False False True False False\n",
      " False False False True False True False False False False True True True\n",
      " False False False False True True True False True False False False False\n",
      " False False False True False False False False True True False False\n",
      " False False False False False True False True True True True True False\n",
      " False False False False False True False False False False True True\n",
      " False False False False False False True False False False False True\n",
      " False False False False True False False False False False False False\n",
      " True False False False True False False False False False False False\n",
      " True False False True False False False False False False False False\n",
      " False False True False True False False False False True True True True\n",
      " False False True False False False False False True False False False\n",
      " True False True False False False False False False False True False\n",
      " False False False False False True False True False False False True True\n",
      " True False True False True True True False False False True False False\n",
      " False False False False True False False False False False True True True\n",
      " True False False False True True True True False False True False False\n",
      " False False False True True False False False False False False False\n",
      " False True False True False False False False False False False False\n",
      " False False False False False False True False False False False False\n",
      " False False False True False False False False False True True False\n",
      " False True False False False False False True False False True False\n",
      " False True False True False False False True False True False True True\n",
      " False False True True True False False True False False True False False\n",
      " True False False True False True False False False False True False False\n",
      " False False True True False True False False False False False True True\n",
      " False True False True True True False False True True True True False\n",
      " True False False]' has dtype incompatible with float64, please explicitly cast to a compatible dtype first.\n",
      "  cw_and_orig.loc[cw_and_orig[\"is_cw\"]>=0.5,\"after_cw_is_right\"] = cw_and_orig.loc[cw_and_orig[\"is_cw\"]>=0.5,\"revise_is_right\"]\n"
     ]
    }
   ],
   "source": [
    "orig_is_right = combined_df.groupby(\"problem\")[[\"orig_is_right\",\"is_cw\"]].mean()\n",
    "\n",
    "cw_and_orig = (\n",
    "    cw_revised\n",
    "    .merge(\n",
    "        orig_is_right.reset_index(),\n",
    "        on=\"problem\",\n",
    "        how=\"right\",\n",
    "        suffixes=(\"_revised\", \"_combined\")\n",
    "    )\n",
    "    .assign(after_cw_is_right=lambda x: x[\"orig_is_right\"])\n",
    ")\n",
    "cw_and_orig.loc[cw_and_orig[\"is_cw\"]>=0.5,\"after_cw_is_right\"] = cw_and_orig.loc[cw_and_orig[\"is_cw\"]>=0.5,\"revise_is_right\"] "
   ]
  },
  {
   "cell_type": "code",
   "execution_count": 29,
   "metadata": {
    "scrolled": true
   },
   "outputs": [
    {
     "name": "stdout",
     "output_type": "stream",
     "text": [
      "orig acc: 0.475882\n",
      "revise accuracy: 0.500608\n"
     ]
    },
    {
     "data": {
      "text/plain": [
       "TtestResult(statistic=np.float64(2.457447089769284), pvalue=np.float64(0.007004960745416886), df=np.float64(9866.0))"
      ]
     },
     "execution_count": 29,
     "metadata": {},
     "output_type": "execute_result"
    }
   ],
   "source": [
    "## Original accuracy\n",
    "print(\"orig acc: {:3f}\".format(cw_and_orig.orig_is_right.mean()))\n",
    "\n",
    "## Modified accuracty\n",
    "print(\"revise accuracy: {:3f}\".format(cw_and_orig.after_cw_is_right.mean()))\n",
    "\n",
    "\n",
    "from scipy.stats import ttest_ind\n",
    "ttest_ind(np.array(cw_and_orig.after_cw_is_right.values.astype(float)),\n",
    "          np.array(cw_and_orig.orig_is_right.values),\n",
    "         alternative=\"greater\")"
   ]
  }
 ],
 "metadata": {
  "kernelspec": {
   "display_name": "Python 3 (ipykernel)",
   "language": "python",
   "name": "python3"
  },
  "language_info": {
   "codemirror_mode": {
    "name": "ipython",
    "version": 3
   },
   "file_extension": ".py",
   "mimetype": "text/x-python",
   "name": "python",
   "nbconvert_exporter": "python",
   "pygments_lexer": "ipython3",
   "version": "3.10.15"
  }
 },
 "nbformat": 4,
 "nbformat_minor": 4
}
